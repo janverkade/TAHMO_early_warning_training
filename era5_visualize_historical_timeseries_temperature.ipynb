{
 "cells": [
  {
   "cell_type": "markdown",
   "id": "f0a76349",
   "metadata": {},
   "source": [
    "# ERA5 temperature timeseries: visualization\n",
    "\n",
    "In this tutorial, we will visualise historical data from ERA5, a global reanalysis product."
   ]
  },
  {
   "cell_type": "markdown",
   "id": "fa782691",
   "metadata": {},
   "source": [
    "## Preliminaries\n",
    "This tutorial requires the presence of various Python libraries that may need to be installed. If you know that these libraries are already installed, you may skip this step."
   ]
  },
  {
   "cell_type": "code",
   "execution_count": null,
   "id": "69c47ce0",
   "metadata": {},
   "outputs": [],
   "source": [
    "%%capture\n",
    "!pip install xarray\n",
    "!pip install matplotlib\n",
    "!pip install numpy\n",
    "!pip install cartopy"
   ]
  },
  {
   "cell_type": "markdown",
   "id": "48dcb524",
   "metadata": {},
   "source": [
    "Once installed, the various packages need to be loaded into memory."
   ]
  },
  {
   "cell_type": "code",
   "execution_count": null,
   "id": "8b8f9697",
   "metadata": {},
   "outputs": [],
   "source": [
    "import os\n",
    "import numpy as np\n",
    "import xarray as xr\n",
    "import matplotlib.pyplot as plt\n",
    "import cartopy.crs as ccrs\n",
    "import cartopy.feature as cfeature"
   ]
  },
  {
   "cell_type": "markdown",
   "id": "4e5485ad",
   "metadata": {},
   "source": [
    "## Location of the data\n",
    "This tutorial assumes that data has already been downloaded. Using `xarray`, the dataset is accessed: "
   ]
  },
  {
   "cell_type": "code",
   "execution_count": null,
   "id": "b7de75a7",
   "metadata": {},
   "outputs": [],
   "source": [
    "era5_data = xr.open_dataset(f'./era5_temperature_pays_bas_2021_2022_2023.nc') - 273.15\n",
    "era5_data"
   ]
  },
  {
   "cell_type": "markdown",
   "id": "eb2ff82d",
   "metadata": {},
   "source": [
    "## Plotting function\n",
    "Below function is used to plot our data. Note that this function is taken from a script that was written by ECMWF (https://ecmwf-projects.github.io/copernicus-training-c3s/glofas-bangladesh-floods.html#explore-and-view-the-data).\n",
    "\n",
    "In below function, the extent has the convention `[x0,x1,y0,y1]`. This convention differs from the one needed to download data from the CDS!"
   ]
  },
  {
   "cell_type": "code",
   "execution_count": null,
   "id": "8f27b356",
   "metadata": {},
   "outputs": [],
   "source": [
    "# Create a simple plotting function that we can use throughout this notebook\n",
    "def plot_map(\n",
    "    plot_data,\n",
    "    title='',\n",
    "    cbar_label='',\n",
    "    cmap='PuBu',\n",
    "    extent=[-180, 180, -90, 90], #[x0,x1,y0,y1] = [West,East,South,North]\n",
    "    **pcolorkwargs\n",
    "):\n",
    "    # Populate the title and cbar_label with attributes from the plot_data if they have not been\n",
    "    #  explicitly specified\n",
    "    title = title or plot_data.attrs.get('long_name', title)\n",
    "    cbar_label = cbar_label or plot_data.attrs.get('units', cbar_label)\n",
    "\n",
    "    # Create a figure with a cartopy projection assigned which allows plotting geospatial data\n",
    "    fig, ax = plt.subplots(\n",
    "        1, 1, figsize = (18, 9), subplot_kw={'projection': ccrs.PlateCarree()}\n",
    "    )\n",
    "\n",
    "    # Plot the data on our figure\n",
    "    im = ax.pcolormesh(\n",
    "        plot_data.longitude, plot_data.latitude, plot_data, cmap=cmap, **pcolorkwargs\n",
    "    )\n",
    "\n",
    "    # Add some additional features\n",
    "    ax.set_title(title, fontsize=16)\n",
    "    ax.gridlines(draw_labels=False, linewidth=1, color='gray', alpha=0.5, linestyle='--') \n",
    "    ax.coastlines(color='black')\n",
    "\n",
    "    # Add country borders in red\n",
    "    ax.add_feature(cfeature.BORDERS, edgecolor='black', lw=1.5, ls=\":\")\n",
    "\n",
    "    # Set the plot domain/extent\n",
    "    ax.set_extent(extent, crs=ccrs.PlateCarree())\n",
    "\n",
    "    # Add a colour bar\n",
    "    cbar = plt.colorbar(im,fraction=0.04, pad=0.01)\n",
    "    cbar.set_label(cbar_label, fontsize=12) "
   ]
  },
  {
   "cell_type": "markdown",
   "id": "06c50b06",
   "metadata": {},
   "source": [
    "## Plot mean temperature\n",
    "First, the average streamflow is plotted. This is an average over all data that is present in the file we accessed."
   ]
  },
  {
   "cell_type": "code",
   "execution_count": null,
   "id": "9e211508",
   "metadata": {},
   "outputs": [],
   "source": [
    "mean_data = era5_data.t2m.mean(dim='time')\n",
    "mean_data = mean_data.assign_attrs(**era5_data.t2m.attrs)\n",
    "plot_map(\n",
    "    mean_data,\n",
    "    vmax=30, vmin=-10,\n",
    "    cbar_label = \"oC\",\n",
    "    extent=[3.5, 7.5, 50.5, 54], #[x0,x1,y0,y1] = [West,East,South,North]\n",
    "    title = 'Mean temperature in The Netherlands, 2021-2023',\n",
    "    cmap = 'coolwarm'\n",
    ")"
   ]
  },
  {
   "cell_type": "markdown",
   "id": "75f95d69",
   "metadata": {},
   "source": [
    "Let's now plot the data for a given moment:"
   ]
  },
  {
   "cell_type": "code",
   "execution_count": null,
   "id": "2b3df818",
   "metadata": {},
   "outputs": [],
   "source": [
    "my_data = era5_data.t2m.sel(time='2021-07-23T14:00:00')\n",
    "my_data = my_data.assign_attrs(**era5_data.t2m.attrs)\n",
    "plot_map(\n",
    "    my_data,\n",
    "    vmax=30, vmin=-10,\n",
    "    cbar_label = \"oC\",\n",
    "    extent=[3.5, 7.5, 50, 54], #[x0,x1,y0,y1] = [West,East,South,North]\n",
    "    title = 'Temperature in The Netherlands on a specific time',\n",
    "    cmap = 'coolwarm'\n",
    ")"
   ]
  },
  {
   "cell_type": "markdown",
   "id": "5cb20d18",
   "metadata": {},
   "source": [
    "## Plot data for a single location\n",
    "The data file contains gridded data. From the grid, we extract data for a single location. We then plot the full timeseries."
   ]
  },
  {
   "cell_type": "code",
   "execution_count": null,
   "id": "01ebb85e",
   "metadata": {},
   "outputs": [],
   "source": [
    "era5_data.t2m.sel(latitude=52, longitude=4.75, method='nearest').plot()"
   ]
  }
 ],
 "metadata": {
  "kernelspec": {
   "display_name": "Python 3 (ipykernel)",
   "language": "python",
   "name": "python3"
  },
  "language_info": {
   "codemirror_mode": {
    "name": "ipython",
    "version": 3
   },
   "file_extension": ".py",
   "mimetype": "text/x-python",
   "name": "python",
   "nbconvert_exporter": "python",
   "pygments_lexer": "ipython3",
   "version": "3.10.10"
  }
 },
 "nbformat": 4,
 "nbformat_minor": 5
}
