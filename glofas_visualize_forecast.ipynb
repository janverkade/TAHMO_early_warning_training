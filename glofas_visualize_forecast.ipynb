{
 "cells": [
  {
   "cell_type": "markdown",
   "id": "1e47b517",
   "metadata": {},
   "source": [
    "# GLOFAS historical streamflows: visualization\n",
    "\n",
    "In this tutorial, we will visualise a forecast from the GLObal Flood Awareness System that is operated by the European Commission."
   ]
  },
  {
   "cell_type": "markdown",
   "id": "83f41d26",
   "metadata": {},
   "source": [
    "* load libraries\n",
    "* read data\n",
    "* visualize grid for single ensemble members (or all if at all possible)\n",
    "* extract data for single location; plot ensemble\n",
    "* compute #members above a threshold"
   ]
  },
  {
   "cell_type": "markdown",
   "id": "bd8d3d76",
   "metadata": {},
   "source": [
    "## Preliminaries\n",
    "This tutorial requires the presence of various Python libraries that may need to be installed."
   ]
  },
  {
   "cell_type": "code",
   "execution_count": null,
   "id": "717d170b",
   "metadata": {},
   "outputs": [],
   "source": [
    "pip install xarray\n",
    "pip install cfgrib\n",
    "pip install matplotlib\n",
    "pip install numpy"
   ]
  },
  {
   "cell_type": "markdown",
   "id": "d326e078",
   "metadata": {},
   "source": [
    "Once installed, the various packages need to be loaded into memory."
   ]
  },
  {
   "cell_type": "code",
   "execution_count": null,
   "id": "8b8f9697",
   "metadata": {},
   "outputs": [],
   "source": [
    "import os\n",
    "\n",
    "# Libraries for working with multidimensional arrays\n",
    "import numpy as np\n",
    "import xarray as xr\n",
    "\n",
    "# Libraries for plotting and visualising data\n",
    "import matplotlib.pyplot as plt\n",
    "import cartopy.crs as ccrs\n",
    "import cartopy.feature as cfeature"
   ]
  },
  {
   "cell_type": "markdown",
   "id": "4e5485ad",
   "metadata": {},
   "source": [
    "## Read the data\n",
    "This tutorial assumes that data has already been downloaded. If used from within github.com, online data can be used.\n",
    "\n",
    "Using `xarray`, the dataset is accessed: "
   ]
  },
  {
   "cell_type": "code",
   "execution_count": 4,
   "id": "b7de75a7",
   "metadata": {},
   "outputs": [
    {
     "ename": "NameError",
     "evalue": "name 'xr' is not defined",
     "output_type": "error",
     "traceback": [
      "\u001b[1;31m---------------------------------------------------------------------------\u001b[0m",
      "\u001b[1;31mNameError\u001b[0m                                 Traceback (most recent call last)",
      "Cell \u001b[1;32mIn[4], line 1\u001b[0m\n\u001b[1;32m----> 1\u001b[0m glofas_data \u001b[38;5;241m=\u001b[39m \u001b[43mxr\u001b[49m\u001b[38;5;241m.\u001b[39mopen_dataset(\u001b[38;5;124mf\u001b[39m\u001b[38;5;124m'\u001b[39m\u001b[38;5;124m./glofas-june_2012_2022.grib\u001b[39m\u001b[38;5;124m'\u001b[39m)\n\u001b[0;32m      2\u001b[0m glofas_data\n",
      "\u001b[1;31mNameError\u001b[0m: name 'xr' is not defined"
     ]
    }
   ],
   "source": [
    "glofas_data = xr.open_dataset(f'./glofas-june_2012_2022.grib')\n",
    "glofas_data"
   ]
  },
  {
   "cell_type": "markdown",
   "id": "eb2ff82d",
   "metadata": {},
   "source": [
    "## Plotting function\n",
    "Below function is used to plot our data. Note that this function is taken from a script that was written by ECMWF (https://ecmwf-projects.github.io/copernicus-training-c3s/glofas-bangladesh-floods.html#explore-and-view-the-data).\n",
    "\n",
    "In below function, the extent has the convention `[x0,x1,y0,y1]`. This convention differs from the one needed to download data from the CDS!"
   ]
  },
  {
   "cell_type": "code",
   "execution_count": null,
   "id": "8f27b356",
   "metadata": {},
   "outputs": [],
   "source": [
    "# Create a simple plotting function that we can use throughout this notebook\n",
    "def plot_map(\n",
    "    plot_data,\n",
    "    title='',\n",
    "    cbar_label='',\n",
    "    cmap='PuBu',\n",
    "    extent=[-180, 180, -90, 90], #[x0,x1,y0,y1] = [West,East,South,North]\n",
    "    **pcolorkwargs\n",
    "):\n",
    "    # Populate the title and cbar_label with attributes from the plot_data if they have not been\n",
    "    #  explicitly specified\n",
    "    title = title or plot_data.attrs.get('long_name', title)\n",
    "    cbar_label = cbar_label or plot_data.attrs.get('units', cbar_label)\n",
    "\n",
    "    # Create a figure with a cartopy projection assigned which allows plotting geospatial data\n",
    "    fig, ax = plt.subplots(\n",
    "        1, 1, figsize = (18, 9), subplot_kw={'projection': ccrs.PlateCarree()}\n",
    "    )\n",
    "\n",
    "    # Plot the data on our figure\n",
    "    im = ax.pcolormesh(\n",
    "        plot_data.longitude, plot_data.latitude, plot_data, cmap=cmap, **pcolorkwargs\n",
    "    )\n",
    "\n",
    "    # Add some additional features\n",
    "    ax.set_title(title, fontsize=16)\n",
    "    ax.gridlines(draw_labels=False, linewidth=1, color='gray', alpha=0.5, linestyle='--') \n",
    "    ax.coastlines(color='black')\n",
    "\n",
    "    # Add country borders in red\n",
    "    ax.add_feature(cfeature.BORDERS, edgecolor='black', lw=1.5, ls=\":\")\n",
    "\n",
    "    # Set the plot domain/extent\n",
    "    ax.set_extent(extent, crs=ccrs.PlateCarree())\n",
    "\n",
    "    # Add a colour bar\n",
    "    cbar = plt.colorbar(im,fraction=0.04, pad=0.01)\n",
    "    cbar.set_label(cbar_label, fontsize=12) "
   ]
  },
  {
   "cell_type": "markdown",
   "id": "06c50b06",
   "metadata": {},
   "source": [
    "## Plot gridded forecast for a single ensemble member\n",
    "As a map is two-dimensional, we have to reduce the data in order to be able to visualize it. First, we plot a single ensemble member only."
   ]
  },
  {
   "cell_type": "code",
   "execution_count": 3,
   "id": "9e211508",
   "metadata": {},
   "outputs": [
    {
     "ename": "NameError",
     "evalue": "name 'glofas_data' is not defined",
     "output_type": "error",
     "traceback": [
      "\u001b[1;31m---------------------------------------------------------------------------\u001b[0m",
      "\u001b[1;31mNameError\u001b[0m                                 Traceback (most recent call last)",
      "Cell \u001b[1;32mIn[3], line 1\u001b[0m\n\u001b[1;32m----> 1\u001b[0m single_member_data \u001b[38;5;241m=\u001b[39m \u001b[43mglofas_data\u001b[49m\u001b[38;5;241m.\u001b[39mdis24\u001b[38;5;241m.\u001b[39mmean(dim\u001b[38;5;241m=\u001b[39m\u001b[38;5;124m'\u001b[39m\u001b[38;5;124mtime\u001b[39m\u001b[38;5;124m'\u001b[39m)\n\u001b[0;32m      2\u001b[0m single_member_data \u001b[38;5;241m=\u001b[39m mean_data\u001b[38;5;241m.\u001b[39massign_attrs(\u001b[38;5;241m*\u001b[39m\u001b[38;5;241m*\u001b[39mglofas_data\u001b[38;5;241m.\u001b[39mdis24\u001b[38;5;241m.\u001b[39mattrs)\n\u001b[0;32m      3\u001b[0m plot_map(\n\u001b[0;32m      4\u001b[0m     single_member_data,\n\u001b[0;32m      5\u001b[0m     vmax\u001b[38;5;241m=\u001b[39m\u001b[38;5;241m1e3\u001b[39m, vmin\u001b[38;5;241m=\u001b[39m\u001b[38;5;241m0\u001b[39m,\n\u001b[1;32m   (...)\u001b[0m\n\u001b[0;32m      8\u001b[0m     title \u001b[38;5;241m=\u001b[39m \u001b[38;5;124m'\u001b[39m\u001b[38;5;124mAverage streamflow\u001b[39m\u001b[38;5;124m'\u001b[39m\n\u001b[0;32m      9\u001b[0m )\n",
      "\u001b[1;31mNameError\u001b[0m: name 'glofas_data' is not defined"
     ]
    }
   ],
   "source": [
    "single_member_data = glofas_data.sel({'realization': 37})\n",
    "single_member_data = mean_data.assign_attrs(**glofas_data.dis24.attrs)\n",
    "plot_map(\n",
    "    single_member_data,\n",
    "    vmax=1e3, vmin=0,\n",
    "    cbar_label = \"m³ s⁻¹\",\n",
    "    extent=[-2, 11, -9, 4], #[x0,x1,y0,y1] = [West,East,South,North]\n",
    "    title = 'Average streamflow'\n",
    ")"
   ]
  },
  {
   "cell_type": "markdown",
   "id": "e6d5cd8a",
   "metadata": {},
   "source": [
    "Then, we compute and plot the min/max/mean over all 51 ensemble members:"
   ]
  },
  {
   "cell_type": "code",
   "execution_count": null,
   "id": "6fcde8ba",
   "metadata": {},
   "outputs": [],
   "source": [
    "min_data = glofas_data.dis24.minn(dim='realization')\n",
    "min_data = min_data.assign_attrs(**glofas_data.dis24.attrs)\n",
    "\n",
    "mean_data = glofas_data.dis24.mean(dim='realization')\n",
    "max_data = max_data.assign_attrs(**glofas_data.dis24.attrs)\n",
    "\n",
    "max_data = glofas_data.dis24.max(dim='realization')\n",
    "max_data = max_data.assign_attrs(**glofas_data.dis24.attrs)\n",
    "\n",
    "plot_map(\n",
    "    min_data,\n",
    "    vmax=1e3, vmin=0,\n",
    "    cbar_label = \"m³ s⁻¹\",\n",
    "    extent=[-2, 11, -9, 4], #[x0,x1,y0,y1] = [West,East,South,North]\n",
    "    title = 'Forecast data: minimum values across all ensemble members/realizations'\n",
    ")\n",
    "\n",
    "plot_map(\n",
    "    mean_data,\n",
    "    vmax=1e3, vmin=0,\n",
    "    cbar_label = \"m³ s⁻¹\",\n",
    "    extent=[-2, 11, -9, 4], #[x0,x1,y0,y1] = [West,East,South,North]\n",
    "    title = 'Forecast data: average values across all ensemble members/realizations'\n",
    ")\n",
    "\n",
    "plot_map(\n",
    "    max_data,\n",
    "    vmax=1e3, vmin=0,\n",
    "    cbar_label = \"m³ s⁻¹\",\n",
    "    extent=[-2, 11, -9, 4], #[x0,x1,y0,y1] = [West,East,South,North]\n",
    "    title = 'Forecast data: maximum values across all ensemble members/realizations'\n",
    ")"
   ]
  },
  {
   "cell_type": "markdown",
   "id": "70f971f1",
   "metadata": {},
   "source": [
    "## Plot data for a single location\n",
    "The data file contains gridded data. From the grid, we extract data for a single location. We then plot the full timeseries."
   ]
  },
  {
   "cell_type": "code",
   "execution_count": null,
   "id": "01ebb85e",
   "metadata": {},
   "outputs": [],
   "source": [
    "glofas_data.dis24.sel(latitude=0, longitude=10, method='nearest').plot()"
   ]
  },
  {
   "cell_type": "markdown",
   "id": "0af8bff4",
   "metadata": {},
   "source": [
    "## Compute statistics\n",
    "On the assumption that we have a long timeseries available, we can compute various return intervals.\n",
    "\n",
    "@Include this, based on c:\\Users\\verkade\\OneDrive - Stichting Deltares\\_gloffis\\20211230-derive_stats_example.ipynb"
   ]
  },
  {
   "cell_type": "markdown",
   "id": "d4b4e430",
   "metadata": {},
   "source": [
    "Plot an ensemble forecast"
   ]
  },
  {
   "cell_type": "code",
   "execution_count": 1,
   "id": "41ea8f21",
   "metadata": {},
   "outputs": [
    {
     "ename": "NameError",
     "evalue": "name 'k' is not defined",
     "output_type": "error",
     "traceback": [
      "\u001b[1;31m---------------------------------------------------------------------------\u001b[0m",
      "\u001b[1;31mNameError\u001b[0m                                 Traceback (most recent call last)",
      "Cell \u001b[1;32mIn[1], line 1\u001b[0m\n\u001b[1;32m----> 1\u001b[0m \u001b[43mk\u001b[49m\n",
      "\u001b[1;31mNameError\u001b[0m: name 'k' is not defined"
     ]
    }
   ],
   "source": [
    "k"
   ]
  }
 ],
 "metadata": {
  "kernelspec": {
   "display_name": "Python 3 (ipykernel)",
   "language": "python",
   "name": "python3"
  },
  "language_info": {
   "codemirror_mode": {
    "name": "ipython",
    "version": 3
   },
   "file_extension": ".py",
   "mimetype": "text/x-python",
   "name": "python",
   "nbconvert_exporter": "python",
   "pygments_lexer": "ipython3",
   "version": "3.10.10"
  }
 },
 "nbformat": 4,
 "nbformat_minor": 5
}
