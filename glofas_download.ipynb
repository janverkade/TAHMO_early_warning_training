{
 "cells": [
  {
   "cell_type": "markdown",
   "metadata": {},
   "source": [
    "# GLOFAS data download\n"
   ]
  },
  {
   "cell_type": "code",
   "execution_count": 1,
   "metadata": {},
   "outputs": [],
   "source": [
    "import os\n",
    "import cdsapi\n",
    "import calendar"
   ]
  },
  {
   "cell_type": "code",
   "execution_count": 2,
   "metadata": {},
   "outputs": [],
   "source": [
    "if os.path.isfile(\"~/.cdsapirc\"):\n",
    "    cdsapi_kwargs = {}\n",
    "else:\n",
    "    URL = 'https://cds.climate.copernicus.eu/api/v2'\n",
    "    KEY = '34022:5234d71c-bdff-4ed5-ac99-add9554f5c8a'\n",
    "    cdsapi_kwargs = {\n",
    "        'url': URL,\n",
    "        'key': KEY,\n",
    "    }"
   ]
  },
  {
   "cell_type": "markdown",
   "metadata": {},
   "source": [
    "The CDS download extent takes the following convention: [y1,x1,y0,x0] = [North, West, South, East].\n",
    "\n",
    "Some useful extents include:\n",
    "* Madagascar: [-10,52,-26,45]\n",
    "* Côte d'Ivoire: [11,-2,4,-9]\n",
    "* Kenya: [5,42.5,-5,33.5]"
   ]
  },
  {
   "cell_type": "code",
   "execution_count": null,
   "metadata": {},
   "outputs": [
    {
     "name": "stderr",
     "output_type": "stream",
     "text": [
      "2024-01-20 09:48:10,307 INFO Welcome to the CDS\n",
      "2024-01-20 09:48:10,313 INFO Sending request to https://cds.climate.copernicus.eu/api/v2/resources/cems-glofas-historical\n",
      "2024-01-20 09:48:10,468 INFO Request is queued\n"
     ]
    }
   ],
   "source": [
    "download_file = f\"./glofas-2012_2022.grib\"\n",
    "if not os.path.isfile(download_file):\n",
    "    c = cdsapi.Client(\n",
    "        **cdsapi_kwargs\n",
    "    )\n",
    "    c.retrieve(\n",
    "        'cems-glofas-historical',\n",
    "        {\n",
    "            'system_version': 'version_4_0',\n",
    "            'hydrological_model': 'lisflood',\n",
    "            'product_type': 'consolidated',\n",
    "            'variable': 'river_discharge_in_the_last_24_hours',\n",
    "            'hyear': [f\"{year}\" for year in range(2022, 2022)],\n",
    "            'hmonth': [calendar.month_name[i].lower() for i in range(1, 13)],\n",
    "            'hday': [f\"{day:02d}\" for day in range(1,31)],\n",
    "            'format': 'grib',\n",
    "            'area': [11,-2,4,-9], #[y1,x1,y0,x0] = [North, West, South, East]\n",
    "        },\n",
    "    ).download(download_file)"
   ]
  },
  {
   "cell_type": "code",
   "execution_count": null,
   "metadata": {},
   "outputs": [],
   "source": []
  }
 ],
 "metadata": {
  "kernelspec": {
   "display_name": "Python 3 (ipykernel)",
   "language": "python",
   "name": "python3"
  },
  "language_info": {
   "codemirror_mode": {
    "name": "ipython",
    "version": 3
   },
   "file_extension": ".py",
   "mimetype": "text/x-python",
   "name": "python",
   "nbconvert_exporter": "python",
   "pygments_lexer": "ipython3",
   "version": "3.10.10"
  }
 },
 "nbformat": 4,
 "nbformat_minor": 2
}
